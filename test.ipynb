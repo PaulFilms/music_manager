{
 "cells": [
  {
   "cell_type": "code",
   "execution_count": null,
   "id": "e4a00608",
   "metadata": {},
   "outputs": [],
   "source": [
    "from functions import APPL\n",
    "\n",
    "url = r'https://music.apple.com/es/album/by-any-means/824496777'\n",
    "# url = r'https://music.apple.com/es/playlist/am-bass-edm/pl.u-BNA6L6WTYKXm9r'\n",
    "\n",
    "tracks = APPL.get_tracks(url)\n",
    "for track in tracks:\n",
    "    print(track)"
   ]
  }
 ],
 "metadata": {
  "kernelspec": {
   "display_name": ".venv (3.12.5)",
   "language": "python",
   "name": "python3"
  },
  "language_info": {
   "codemirror_mode": {
    "name": "ipython",
    "version": 3
   },
   "file_extension": ".py",
   "mimetype": "text/x-python",
   "name": "python",
   "nbconvert_exporter": "python",
   "pygments_lexer": "ipython3",
   "version": "3.12.5"
  }
 },
 "nbformat": 4,
 "nbformat_minor": 5
}
